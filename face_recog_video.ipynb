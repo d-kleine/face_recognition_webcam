{
 "cells": [
  {
   "cell_type": "code",
   "execution_count": 2,
   "id": "eb07c6ea",
   "metadata": {},
   "outputs": [
    {
     "name": "stdout",
     "output_type": "stream",
     "text": [
      "Writing frame 10 / 255\n",
      "Writing frame 20 / 255\n",
      "Writing frame 30 / 255\n",
      "Writing frame 40 / 255\n",
      "Writing frame 50 / 255\n",
      "Writing frame 60 / 255\n",
      "Writing frame 70 / 255\n",
      "Writing frame 80 / 255\n",
      "Writing frame 90 / 255\n",
      "Writing frame 100 / 255\n",
      "Writing frame 110 / 255\n",
      "Writing frame 120 / 255\n",
      "Writing frame 130 / 255\n",
      "Writing frame 140 / 255\n",
      "Writing frame 150 / 255\n",
      "Writing frame 160 / 255\n",
      "Writing frame 170 / 255\n",
      "Writing frame 180 / 255\n",
      "Writing frame 190 / 255\n",
      "Writing frame 200 / 255\n",
      "Writing frame 210 / 255\n",
      "Writing frame 220 / 255\n",
      "Writing frame 230 / 255\n",
      "Writing frame 240 / 255\n",
      "Writing frame 250 / 255\n"
     ]
    }
   ],
   "source": [
    "import cv2  \n",
    "\n",
    "# Load the cascade  \n",
    "face_cascade = cv2.CascadeClassifier(cv2.data.haarcascades + 'haarcascade_frontalface_default.xml')\n",
    "\n",
    "# To capture video from existing video.   \n",
    "cap = cv2.VideoCapture('example.mp4')\n",
    "length = int(cap.get(cv2.CAP_PROP_FRAME_COUNT))\n",
    "\n",
    "codec = int(cap.get(cv2.CAP_PROP_FOURCC)) \n",
    "fps = int(cap.get(cv2.CAP_PROP_FPS)) \n",
    "frame_width = int(cap.get(cv2.CAP_PROP_FRAME_WIDTH)) \n",
    "frame_height = int(cap.get(cv2.CAP_PROP_FRAME_HEIGHT)) \n",
    "output_movie = cv2.VideoWriter('output.mp4', codec, fps, (frame_width,frame_height))\n",
    "\n",
    "frame_number = 0\n",
    "\n",
    "while True:  \n",
    "    # Read the frame  \n",
    "    ret, img = cap.read()  \n",
    "    frame_number += 1\n",
    "    \n",
    "    if not ret:\n",
    "        break\n",
    "    \n",
    "    # Convert to grayscale  \n",
    "    gray = cv2.cvtColor(img, cv2.COLOR_BGR2GRAY) \n",
    "\n",
    "    # Detect the faces  \n",
    "    faces = face_cascade.detectMultiScale(gray, 1.1, 4)  \n",
    "\n",
    "    # Draw the rectangle around each face  \n",
    "    for (x, y, w, h) in faces:  \n",
    "        cv2.rectangle(img, (x, y), (x+w, y+h), (255, 0, 0), 2)  \n",
    "\n",
    "    # save\n",
    "    if frame_number % 10 == 0:\n",
    "        print(\"Writing frame {} / {}\".format(frame_number, length))\n",
    "    output_movie.write(img) \n",
    "\n",
    "# Release the VideoCapture object  \n",
    "output_movie.release()"
   ]
  },
  {
   "cell_type": "code",
   "execution_count": null,
   "id": "c0ce9d44",
   "metadata": {},
   "outputs": [],
   "source": []
  }
 ],
 "metadata": {
  "kernelspec": {
   "display_name": "Python 3 (ipykernel)",
   "language": "python",
   "name": "python3"
  },
  "language_info": {
   "codemirror_mode": {
    "name": "ipython",
    "version": 3
   },
   "file_extension": ".py",
   "mimetype": "text/x-python",
   "name": "python",
   "nbconvert_exporter": "python",
   "pygments_lexer": "ipython3",
   "version": "3.9.7"
  }
 },
 "nbformat": 4,
 "nbformat_minor": 5
}
